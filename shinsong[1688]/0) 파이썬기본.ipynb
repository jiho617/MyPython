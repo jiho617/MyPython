{
 "cells": [
  {
   "cell_type": "markdown",
   "metadata": {
    "colab_type": "text",
    "id": "bjGWGfDnGz__"
   },
   "source": [
    "### step 1) 파이썬 병아리반"
   ]
  },
  {
   "cell_type": "markdown",
   "metadata": {
    "colab_type": "text",
    "id": "5EbsCWbNG0AB"
   },
   "source": [
    "##### 1. 출력 함수 : 결과를 출력할 때 사용"
   ]
  },
  {
   "cell_type": "code",
   "execution_count": 1,
   "metadata": {
    "colab": {
     "autoexec": {
      "startup": false,
      "wait_interval": 0
     },
     "base_uri": "https://localhost:8080/",
     "height": 34
    },
    "colab_type": "code",
    "executionInfo": {
     "elapsed": 1050,
     "status": "ok",
     "timestamp": 1533523232161,
     "user": {
      "displayName": "석리송",
      "photoUrl": "//lh6.googleusercontent.com/-nl1P2bIgjO4/AAAAAAAAAAI/AAAAAAAAJAY/chhU_TyZjOs/s50-c-k-no/photo.jpg",
      "userId": "107801588019081221306"
     },
     "user_tz": -540
    },
    "id": "PbG4Lmc9G0AB",
    "outputId": "e395aa8a-ed1e-4c9d-859e-d66c83b2ef70"
   },
   "outputs": [
    {
     "name": "stdout",
     "output_type": "stream",
     "text": [
      "홍길동\n"
     ]
    }
   ],
   "source": [
    "# 괄호 안에 출력하고 싶은 값을 넣어보세요!\n",
    "print(\"홍길동\")"
   ]
  },
  {
   "cell_type": "markdown",
   "metadata": {
    "colab_type": "text",
    "id": "BEw_lMktG0AF"
   },
   "source": [
    "##### 2. 변수 : 데이터를 메모리에 저장할 때 사용"
   ]
  },
  {
   "cell_type": "code",
   "execution_count": 3,
   "metadata": {
    "colab": {
     "autoexec": {
      "startup": false,
      "wait_interval": 0
     }
    },
    "colab_type": "code",
    "id": "rPPFu3omG0AF"
   },
   "outputs": [
    {
     "name": "stdout",
     "output_type": "stream",
     "text": [
      "구병국\n",
      "구병국님 안녕하세요!\n",
      "2018 구병국\n"
     ]
    }
   ],
   "source": [
    "# name이라는 변수 값을 바꿔보세요!\n",
    "name = '구병국'\n",
    "print(name)\n",
    "print(name+'님 안녕하세요!')\n",
    "print(2018, name)"
   ]
  },
  {
   "cell_type": "markdown",
   "metadata": {
    "colab_type": "text",
    "id": "IdP-_Bt-G0AI"
   },
   "source": [
    "##### 3. 입력 함수 : 문자열 데이터를 입력할 때 사용"
   ]
  },
  {
   "cell_type": "code",
   "execution_count": 8,
   "metadata": {
    "colab": {
     "autoexec": {
      "startup": false,
      "wait_interval": 0
     }
    },
    "colab_type": "code",
    "id": "zf5O6QbWG0AI"
   },
   "outputs": [
    {
     "ename": "SyntaxError",
     "evalue": "EOL while scanning string literal (<ipython-input-8-a5dc81e8d038>, line 3)",
     "output_type": "error",
     "traceback": [
      "\u001b[1;36m  File \u001b[1;32m\"<ipython-input-8-a5dc81e8d038>\"\u001b[1;36m, line \u001b[1;32m3\u001b[0m\n\u001b[1;33m    age = input('나이를 입력해주세요 :\")\u001b[0m\n\u001b[1;37m                               ^\u001b[0m\n\u001b[1;31mSyntaxError\u001b[0m\u001b[1;31m:\u001b[0m EOL while scanning string literal\n"
     ]
    }
   ],
   "source": [
    "name = input()\n",
    "name = input('이름을 입력해주세요 : ')\n",
    "age = input('나이를 입력해주세요 :\")\n",
    "age = int(age)\n",
    "print(name+'님은',age+2,'살처럼 보이시네요!!')"
   ]
  },
  {
   "cell_type": "markdown",
   "metadata": {
    "colab_type": "text",
    "id": "VMg9vWnjG0AL"
   },
   "source": [
    "##### 4. 연산자 : 산술, 비교, 논리\n",
    "##### 4-1. 산술연산자 : 산술적 연산(a.k.a 계산)을 할 때 사용"
   ]
  },
  {
   "cell_type": "code",
   "execution_count": 9,
   "metadata": {
    "colab": {
     "autoexec": {
      "startup": false,
      "wait_interval": 0
     }
    },
    "colab_type": "code",
    "id": "CWwLHrIjG0AM"
   },
   "outputs": [
    {
     "name": "stdout",
     "output_type": "stream",
     "text": [
      "13\n",
      "59049\n",
      "3\n",
      "1.5\n",
      "1\n"
     ]
    }
   ],
   "source": [
    "# 다양한 값을 넣어보며 연습해보세요.\n",
    "print(3 + 10)\n",
    "print(3 ** 10) # ** : 제곱 연산자\n",
    "print(3 % 10)  # % : 나머지 연산자\n",
    "print(3 / 2)   # / : 실수 나눗셈\n",
    "print(3 // 2)  # // : 정수 나눗셈"
   ]
  },
  {
   "cell_type": "markdown",
   "metadata": {
    "colab_type": "text",
    "id": "n7sFkmKjG0AO"
   },
   "source": [
    "##### 4-2. 비교연산자 : 어떤 값의 크기를 비교할 때 사용"
   ]
  },
  {
   "cell_type": "code",
   "execution_count": 10,
   "metadata": {
    "colab": {
     "autoexec": {
      "startup": false,
      "wait_interval": 0
     }
    },
    "colab_type": "code",
    "id": "H_CCJxdPG0AO"
   },
   "outputs": [
    {
     "name": "stdout",
     "output_type": "stream",
     "text": [
      "True\n",
      "False\n",
      "False\n",
      "True\n",
      "True\n"
     ]
    }
   ],
   "source": [
    "# 다양한 값을 넣어보며 연습해보세요.\n",
    "print(10 >= 3)\n",
    "print(10 <= 3)\n",
    "print(10 == 3) # == : 같다\n",
    "print(10 != 3) # != : 같지 않다\n",
    "print(3 % 2 == 1)"
   ]
  },
  {
   "cell_type": "markdown",
   "metadata": {
    "colab_type": "text",
    "id": "ZkzsLqlVG0AR"
   },
   "source": [
    "##### 4-3. 논리연산자 : 어떤 조건이 참인지 거짓인지 판단할 때 사용"
   ]
  },
  {
   "cell_type": "code",
   "execution_count": 11,
   "metadata": {
    "colab": {
     "autoexec": {
      "startup": false,
      "wait_interval": 0
     }
    },
    "colab_type": "code",
    "id": "HjLHrqG2G0AS"
   },
   "outputs": [
    {
     "name": "stdout",
     "output_type": "stream",
     "text": [
      "True\n",
      "False\n",
      "True\n",
      "False\n",
      "True\n"
     ]
    }
   ],
   "source": [
    "# 다양한 값을 넣어보며 연습해보세요.\n",
    "# 논리연산자는 and, or, not 3가지 뿐입니다.\n",
    "print(1 == 1 and 2 != 1) # and : 논리 곱\n",
    "print(10 % 2 != 0 and 1 + 1 > 0)\n",
    "print(10 % 2 != 0 or 1 + 1 > 0) # or : 논리 합\n",
    "print(not True) # not : 논리 부정\n",
    "print(not 0)"
   ]
  },
  {
   "cell_type": "markdown",
   "metadata": {
    "colab_type": "text",
    "id": "o_wXZS0WG0AV"
   },
   "source": [
    "### step 2) 파이썬 기초반"
   ]
  },
  {
   "cell_type": "markdown",
   "metadata": {
    "colab_type": "text",
    "id": "8HiGp0ADG0AW"
   },
   "source": [
    "##### 1. 라이브러리 함수 : 다른 누군가가 만들어둔 함수 활용하기"
   ]
  },
  {
   "cell_type": "code",
   "execution_count": 12,
   "metadata": {
    "colab": {
     "autoexec": {
      "startup": false,
      "wait_interval": 0
     }
    },
    "colab_type": "code",
    "id": "BD0yXdtwG0AW"
   },
   "outputs": [
    {
     "name": "stdout",
     "output_type": "stream",
     "text": [
      "4\n",
      "1\n"
     ]
    }
   ],
   "source": [
    "# random 숫자의 범위를 바꿔보세요\n",
    "import random\n",
    "print(random.randint(1,6))\n",
    "\n",
    "# 랜덤 숫자가 5번 나오도록 실행해보세요.\n",
    "dice = random.randint(1,6)\n",
    "print(dice)"
   ]
  },
  {
   "cell_type": "code",
   "execution_count": null,
   "metadata": {
    "colab": {
     "autoexec": {
      "startup": false,
      "wait_interval": 0
     }
    },
    "colab_type": "code",
    "id": "KY1Ts3M4G0Ab"
   },
   "outputs": [],
   "source": [
    "help(random)"
   ]
  },
  {
   "cell_type": "markdown",
   "metadata": {
    "colab_type": "text",
    "id": "7cl_mHegG0Ae"
   },
   "source": [
    "##### 2. for 반복문 : 정해진 횟수만큼, 또는 주어진 데이터를 반복하고 싶을 때"
   ]
  },
  {
   "cell_type": "code",
   "execution_count": 13,
   "metadata": {
    "colab": {
     "autoexec": {
      "startup": false,
      "wait_interval": 0
     }
    },
    "colab_type": "code",
    "id": "l8BxfdYBG0Ae"
   },
   "outputs": [
    {
     "name": "stdout",
     "output_type": "stream",
     "text": [
      "인천\n",
      "연수\n",
      "송도\n",
      "신송\n"
     ]
    }
   ],
   "source": [
    "# 대괄호 안의 값을 바꿔보세요.\n",
    "for name in ['인천','연수','송도','신송'] :\n",
    "    print(name)"
   ]
  },
  {
   "cell_type": "code",
   "execution_count": 14,
   "metadata": {
    "colab": {
     "autoexec": {
      "startup": false,
      "wait_interval": 0
     }
    },
    "colab_type": "code",
    "id": "Ynv9vMgmG0Ah"
   },
   "outputs": [
    {
     "name": "stdout",
     "output_type": "stream",
     "text": [
      "0\n",
      "1\n",
      "2\n",
      "3\n"
     ]
    }
   ],
   "source": [
    "# i 대신 다른 문자를 넣어보세요.\n",
    "for i in [0,1,2,3] :\n",
    "    print(i)"
   ]
  },
  {
   "cell_type": "code",
   "execution_count": 15,
   "metadata": {
    "colab": {
     "autoexec": {
      "startup": false,
      "wait_interval": 0
     }
    },
    "colab_type": "code",
    "id": "UfP-Z6RoG0Aj"
   },
   "outputs": [
    {
     "name": "stdout",
     "output_type": "stream",
     "text": [
      "0\n",
      "1\n",
      "4\n",
      "9\n"
     ]
    }
   ],
   "source": [
    "# i ** 2 대신 다른 식을 넣어보세요.\n",
    "for i in [0,1,2,3] :\n",
    "    print(i ** 2)"
   ]
  },
  {
   "cell_type": "code",
   "execution_count": 16,
   "metadata": {
    "colab": {
     "autoexec": {
      "startup": false,
      "wait_interval": 0
     }
    },
    "colab_type": "code",
    "id": "O-Js7CBxG0Al"
   },
   "outputs": [
    {
     "name": "stdout",
     "output_type": "stream",
     "text": [
      "0\n",
      "1\n",
      "2\n",
      "3\n"
     ]
    }
   ],
   "source": [
    "# 4 대신 다른 값을 넣어보세요.\n",
    "for i in range(4) :\n",
    "    print(i)"
   ]
  },
  {
   "cell_type": "code",
   "execution_count": 17,
   "metadata": {
    "colab": {
     "autoexec": {
      "startup": false,
      "wait_interval": 0
     }
    },
    "colab_type": "code",
    "id": "U6dw-F4GG0Aq"
   },
   "outputs": [
    {
     "name": "stdout",
     "output_type": "stream",
     "text": [
      "Help on class range in module builtins:\n",
      "\n",
      "class range(object)\n",
      " |  range(stop) -> range object\n",
      " |  range(start, stop[, step]) -> range object\n",
      " |  \n",
      " |  Return an object that produces a sequence of integers from start (inclusive)\n",
      " |  to stop (exclusive) by step.  range(i, j) produces i, i+1, i+2, ..., j-1.\n",
      " |  start defaults to 0, and stop is omitted!  range(4) produces 0, 1, 2, 3.\n",
      " |  These are exactly the valid indices for a list of 4 elements.\n",
      " |  When step is given, it specifies the increment (or decrement).\n",
      " |  \n",
      " |  Methods defined here:\n",
      " |  \n",
      " |  __bool__(self, /)\n",
      " |      self != 0\n",
      " |  \n",
      " |  __contains__(self, key, /)\n",
      " |      Return key in self.\n",
      " |  \n",
      " |  __eq__(self, value, /)\n",
      " |      Return self==value.\n",
      " |  \n",
      " |  __ge__(self, value, /)\n",
      " |      Return self>=value.\n",
      " |  \n",
      " |  __getattribute__(self, name, /)\n",
      " |      Return getattr(self, name).\n",
      " |  \n",
      " |  __getitem__(self, key, /)\n",
      " |      Return self[key].\n",
      " |  \n",
      " |  __gt__(self, value, /)\n",
      " |      Return self>value.\n",
      " |  \n",
      " |  __hash__(self, /)\n",
      " |      Return hash(self).\n",
      " |  \n",
      " |  __iter__(self, /)\n",
      " |      Implement iter(self).\n",
      " |  \n",
      " |  __le__(self, value, /)\n",
      " |      Return self<=value.\n",
      " |  \n",
      " |  __len__(self, /)\n",
      " |      Return len(self).\n",
      " |  \n",
      " |  __lt__(self, value, /)\n",
      " |      Return self<value.\n",
      " |  \n",
      " |  __ne__(self, value, /)\n",
      " |      Return self!=value.\n",
      " |  \n",
      " |  __reduce__(...)\n",
      " |      Helper for pickle.\n",
      " |  \n",
      " |  __repr__(self, /)\n",
      " |      Return repr(self).\n",
      " |  \n",
      " |  __reversed__(...)\n",
      " |      Return a reverse iterator.\n",
      " |  \n",
      " |  count(...)\n",
      " |      rangeobject.count(value) -> integer -- return number of occurrences of value\n",
      " |  \n",
      " |  index(...)\n",
      " |      rangeobject.index(value, [start, [stop]]) -> integer -- return index of value.\n",
      " |      Raise ValueError if the value is not present.\n",
      " |  \n",
      " |  ----------------------------------------------------------------------\n",
      " |  Static methods defined here:\n",
      " |  \n",
      " |  __new__(*args, **kwargs) from builtins.type\n",
      " |      Create and return a new object.  See help(type) for accurate signature.\n",
      " |  \n",
      " |  ----------------------------------------------------------------------\n",
      " |  Data descriptors defined here:\n",
      " |  \n",
      " |  start\n",
      " |  \n",
      " |  step\n",
      " |  \n",
      " |  stop\n",
      "\n"
     ]
    }
   ],
   "source": [
    "help(range)"
   ]
  },
  {
   "cell_type": "code",
   "execution_count": 18,
   "metadata": {
    "colab": {
     "autoexec": {
      "startup": false,
      "wait_interval": 0
     }
    },
    "colab_type": "code",
    "id": "tCsVr0n4G0At"
   },
   "outputs": [
    {
     "name": "stdout",
     "output_type": "stream",
     "text": [
      "2 * 1 = 2\n",
      "2 * 2 = 4\n",
      "2 * 3 = 6\n",
      "2 * 4 = 8\n",
      "2 * 5 = 10\n",
      "2 * 6 = 12\n",
      "2 * 7 = 14\n",
      "2 * 8 = 16\n",
      "2 * 9 = 18\n"
     ]
    }
   ],
   "source": [
    "for i in range(1,10) : \n",
    "    print('2 *', i, '=', 2 * i)"
   ]
  },
  {
   "cell_type": "markdown",
   "metadata": {
    "colab_type": "text",
    "id": "E1TyNfURG0Av"
   },
   "source": [
    "##### mission 1) 구구단 n단 출력하기"
   ]
  },
  {
   "cell_type": "code",
   "execution_count": 21,
   "metadata": {
    "colab": {
     "autoexec": {
      "startup": false,
      "wait_interval": 0
     }
    },
    "colab_type": "code",
    "id": "ToOgqj4VG0Ax"
   },
   "outputs": [
    {
     "name": "stdout",
     "output_type": "stream",
     "text": [
      "2-9사이의 정수를 입력하세요6\n",
      "6 * 1 = 6\n",
      "6 * 1 = 6\n",
      "6 * 1 = 6\n",
      "6 * 1 = 6\n",
      "6 * 1 = 6\n",
      "6 * 1 = 6\n",
      "6 * 1 = 6\n",
      "6 * 1 = 6\n",
      "6 * 1 = 6\n"
     ]
    }
   ],
   "source": [
    "# 입력 : n(2~9사이의 정수)\n",
    "n = int(input(\"2-9사이의 정수를 입력하세요\"))\n",
    "# 출력 : 구구단 중 n단\n",
    "for i in range(1,10):\n",
    "    print(n,\"*\",1, \"=\", n*1)"
   ]
  },
  {
   "cell_type": "markdown",
   "metadata": {
    "colab_type": "text",
    "id": "b6d0nNzmG0A0"
   },
   "source": [
    "##### 3. 선택문 : 조건에 따라 실행을 다르게 하고 싶을 때"
   ]
  },
  {
   "cell_type": "code",
   "execution_count": 23,
   "metadata": {
    "colab": {
     "autoexec": {
      "startup": false,
      "wait_interval": 0
     }
    },
    "colab_type": "code",
    "id": "-O2kTVLDG0A1"
   },
   "outputs": [
    {
     "name": "stdout",
     "output_type": "stream",
     "text": [
      "이것은 짝수입니다.\n"
     ]
    }
   ],
   "source": [
    "# True 대신 다른 조건을 넣어보세요. 예) 10 != 100 / not False\n",
    "if 10%2==0 :\n",
    "    print('이것은 짝수입니다.')"
   ]
  },
  {
   "cell_type": "code",
   "execution_count": 24,
   "metadata": {
    "colab": {
     "autoexec": {
      "startup": false,
      "wait_interval": 0
     }
    },
    "colab_type": "code",
    "id": "azSwEPELG0A2"
   },
   "outputs": [
    {
     "name": "stdout",
     "output_type": "stream",
     "text": [
      "이것은 참입니다.\n"
     ]
    }
   ],
   "source": [
    "# c에 다른 값을 넣어보세요. 예) c = False / c + 1 == 1\n",
    "c = 6\n",
    "\n",
    "if c :\n",
    "    print('이것은 참입니다.')\n",
    "else :\n",
    "    print('이것은 거짓입니다.')"
   ]
  },
  {
   "cell_type": "code",
   "execution_count": 26,
   "metadata": {
    "colab": {
     "autoexec": {
      "startup": false,
      "wait_interval": 0
     }
    },
    "colab_type": "code",
    "id": "OHFTsSNIG0A4"
   },
   "outputs": [
    {
     "name": "stdout",
     "output_type": "stream",
     "text": [
      "아이디를 입력해주세요 :shinsong\n",
      "비밀번호를 입력해주세요 :20181116\n",
      "로그인이 되었습니다.\n"
     ]
    }
   ],
   "source": [
    "서버아이디 = 'shinsong'\n",
    "서버비밀번호 = '20181116'\n",
    "\n",
    "아이디 = input('아이디를 입력해주세요 :')\n",
    "비밀번호 = input('비밀번호를 입력해주세요 :')\n",
    "\n",
    "if 서버아이디 == 아이디 and 서버비밀번호 == 비밀번호:\n",
    "    print('로그인이 되었습니다.')\n",
    "else : \n",
    "    print('아이디 또는 비밀번호가 틀렸습니다.')"
   ]
  },
  {
   "cell_type": "markdown",
   "metadata": {
    "colab_type": "text",
    "id": "QvOG56BrG0A6"
   },
   "source": [
    "##### mission 2) 로그인 프로그램 업그레이드하기"
   ]
  },
  {
   "cell_type": "code",
   "execution_count": 28,
   "metadata": {
    "colab": {
     "autoexec": {
      "startup": false,
      "wait_interval": 0
     }
    },
    "colab_type": "code",
    "id": "gHCWev4cG0A7"
   },
   "outputs": [
    {
     "name": "stdout",
     "output_type": "stream",
     "text": [
      "로그인 id를 입력하세요korea\n",
      "암호를 입력하세요201901\n",
      "로그인이 성공적으로 되었습니다\n"
     ]
    }
   ],
   "source": [
    "# 입력 : 아이디, 비밀번호\n",
    "id = \"korea\"\n",
    "password = \"201901\"\n",
    "inputid = input(\"로그인 id를 입력하세요\")\n",
    "inputpassword = input(\"암호를 입력하세요\")\n",
    "if(id == inputid and password == inputpassword):\n",
    "    print(\"로그인이 성공적으로 되었습니다\")\n",
    "else:\n",
    "    print(\"로그인에 실패하셨습니다\")\n",
    "# 출력 : 창의적인 방법으로 생각해보세요!"
   ]
  },
  {
   "cell_type": "markdown",
   "metadata": {
    "colab_type": "text",
    "id": "l5XzQV3aG0A9"
   },
   "source": [
    "##### 4. 리스트 : 순서가 있는 데이터를 저장하고 싶을 때"
   ]
  },
  {
   "cell_type": "code",
   "execution_count": null,
   "metadata": {
    "colab": {
     "autoexec": {
      "startup": false,
      "wait_interval": 0
     }
    },
    "colab_type": "code",
    "id": "iEjjrjGWG0BB"
   },
   "outputs": [],
   "source": [
    "help(list)"
   ]
  },
  {
   "cell_type": "code",
   "execution_count": 31,
   "metadata": {
    "colab": {
     "autoexec": {
      "startup": false,
      "wait_interval": 0
     },
     "base_uri": "https://localhost:8080/",
     "height": 119
    },
    "colab_type": "code",
    "executionInfo": {
     "elapsed": 930,
     "status": "ok",
     "timestamp": 1533523239506,
     "user": {
      "displayName": "석리송",
      "photoUrl": "//lh6.googleusercontent.com/-nl1P2bIgjO4/AAAAAAAAAAI/AAAAAAAAJAY/chhU_TyZjOs/s50-c-k-no/photo.jpg",
      "userId": "107801588019081221306"
     },
     "user_tz": -540
    },
    "id": "4AuN2dKrG0BD",
    "outputId": "2e52542d-d3f5-42c2-c88c-01c074459966"
   },
   "outputs": [
    {
     "name": "stdout",
     "output_type": "stream",
     "text": [
      "['인천', '연수', '송도', '신송']\n",
      "['인천', '연수', '송도', '신송', '고교']\n",
      "5\n",
      "연수\n",
      "인천\n",
      "고교\n",
      "['연수', '송도']\n"
     ]
    }
   ],
   "source": [
    "names = ['인천','연수','송도','신송']\n",
    "print(names) # 리스트 출력하기\n",
    "names.append('고교') # 리스트에 값 추가하기\n",
    "\n",
    "print(names)\n",
    "print(len(names)) # 리스트의 길이 출력하기\n",
    "\n",
    "print(names[1]) # 리스트에 저장된 순서로 접근하기\n",
    "print(names[0]) # 리스트에 저장된 순서로 접근하기\n",
    "print(names[-1]) # 리스트에 저장된 순서로 접근하기\n",
    "print(names[1:3]) # 리스트에 저장된 순서로 자르기"
   ]
  },
  {
   "cell_type": "code",
   "execution_count": 30,
   "metadata": {
    "colab": {
     "autoexec": {
      "startup": false,
      "wait_interval": 0
     }
    },
    "colab_type": "code",
    "id": "tjOAQLLnG0BF"
   },
   "outputs": [
    {
     "name": "stdout",
     "output_type": "stream",
     "text": [
      "인천 있나요?\n",
      "연수 있나요?\n",
      "송도 있나요?\n",
      "신송 있나요?\n",
      "바다 있나요?\n"
     ]
    }
   ],
   "source": [
    "# 값을 바꿔보세요.\n",
    "names = ['인천','연수','송도','신송']\n",
    "names.append('바다')\n",
    "for name in names :\n",
    "    print(name,'있나요?')"
   ]
  },
  {
   "cell_type": "markdown",
   "metadata": {
    "colab_type": "text",
    "id": "VbW5ZhDSG0BH"
   },
   "source": [
    "### step 3) 파이썬 기본반"
   ]
  },
  {
   "cell_type": "markdown",
   "metadata": {
    "colab_type": "text",
    "id": "OoQsUb3iG0BQ"
   },
   "source": [
    "##### 1. break : 반복문을 멈추고 싶을 때 사용"
   ]
  },
  {
   "cell_type": "code",
   "execution_count": 32,
   "metadata": {
    "colab": {
     "autoexec": {
      "startup": false,
      "wait_interval": 0
     }
    },
    "colab_type": "code",
    "id": "AS-zfX8IG0BT"
   },
   "outputs": [
    {
     "name": "stdout",
     "output_type": "stream",
     "text": [
      "1\n",
      "2\n"
     ]
    }
   ],
   "source": [
    "for i in range(1, 10) :\n",
    "    if i % 3 == 0 :\n",
    "        break\n",
    "    print(i)"
   ]
  },
  {
   "cell_type": "markdown",
   "metadata": {
    "colab_type": "text",
    "id": "EitmgY6WG0BX"
   },
   "source": [
    "##### 2. continue : 반복문의 나머지 부분을 skip하고 싶을 때 사용"
   ]
  },
  {
   "cell_type": "code",
   "execution_count": 33,
   "metadata": {
    "colab": {
     "autoexec": {
      "startup": false,
      "wait_interval": 0
     }
    },
    "colab_type": "code",
    "id": "byBQFkW3G0BY"
   },
   "outputs": [
    {
     "name": "stdout",
     "output_type": "stream",
     "text": [
      "1\n",
      "2\n",
      "4\n",
      "5\n",
      "7\n",
      "8\n"
     ]
    }
   ],
   "source": [
    "for i in range(1, 10) :\n",
    "    if i % 3 == 0 :\n",
    "        continue\n",
    "    print(i)"
   ]
  },
  {
   "cell_type": "markdown",
   "metadata": {
    "colab_type": "text",
    "id": "zXeQHJCPG0BH"
   },
   "source": [
    "##### 3. while 반복문 : 조건에 따라 반복하고 싶을 때"
   ]
  },
  {
   "cell_type": "code",
   "execution_count": 34,
   "metadata": {
    "colab": {
     "autoexec": {
      "startup": false,
      "wait_interval": 0
     }
    },
    "colab_type": "code",
    "id": "KbQLXiFAG0BJ"
   },
   "outputs": [
    {
     "name": "stdout",
     "output_type": "stream",
     "text": [
      "10\n"
     ]
    }
   ],
   "source": [
    "a = 10\n",
    "if a > 0 : \n",
    "    print(a)"
   ]
  },
  {
   "cell_type": "code",
   "execution_count": null,
   "metadata": {
    "colab": {
     "autoexec": {
      "startup": false,
      "wait_interval": 0
     }
    },
    "colab_type": "code",
    "id": "CQi5J2H1G0BL"
   },
   "outputs": [],
   "source": [
    "a = 10\n",
    "while a > 0 : \n",
    "    print(a)"
   ]
  },
  {
   "cell_type": "code",
   "execution_count": 35,
   "metadata": {
    "colab": {
     "autoexec": {
      "startup": false,
      "wait_interval": 0
     }
    },
    "colab_type": "code",
    "id": "yniFP5hWG0BM"
   },
   "outputs": [
    {
     "name": "stdout",
     "output_type": "stream",
     "text": [
      "9\n",
      "8\n",
      "7\n",
      "6\n",
      "5\n",
      "4\n",
      "3\n",
      "2\n",
      "1\n",
      "0\n"
     ]
    }
   ],
   "source": [
    "a = 10\n",
    "while a > 0 : \n",
    "    a = a - 1\n",
    "    print(a)"
   ]
  },
  {
   "cell_type": "code",
   "execution_count": 36,
   "metadata": {
    "colab": {
     "autoexec": {
      "startup": false,
      "wait_interval": 0
     }
    },
    "colab_type": "code",
    "id": "gOTXfLe2G0BO"
   },
   "outputs": [
    {
     "name": "stdout",
     "output_type": "stream",
     "text": [
      "10\n",
      "9\n",
      "8\n",
      "7\n",
      "6\n",
      "5\n",
      "4\n",
      "3\n",
      "2\n",
      "1\n"
     ]
    }
   ],
   "source": [
    "a = 10\n",
    "while a > 0 : \n",
    "    print(a)\n",
    "    a = a - 1"
   ]
  },
  {
   "cell_type": "markdown",
   "metadata": {
    "colab_type": "text",
    "id": "TFNhA4C7G0Ba"
   },
   "source": [
    "##### 4. dictionary : 키와 값이 한 쌍을 이루는 데이터를 저장하고 싶을 때"
   ]
  },
  {
   "cell_type": "code",
   "execution_count": 41,
   "metadata": {
    "colab": {
     "autoexec": {
      "startup": false,
      "wait_interval": 0
     }
    },
    "colab_type": "code",
    "id": "gkryeSxdG0Bb"
   },
   "outputs": [],
   "source": [
    "menu = {'카페라떼' : 2500, '아이스라떼' : 3000, '핫초코' : 2000, '망고빙수' : 5000}"
   ]
  },
  {
   "cell_type": "code",
   "execution_count": 42,
   "metadata": {
    "colab": {
     "autoexec": {
      "startup": false,
      "wait_interval": 0
     }
    },
    "colab_type": "code",
    "id": "DBozEW3mG0Be"
   },
   "outputs": [
    {
     "name": "stdout",
     "output_type": "stream",
     "text": [
      "{'카페라떼': 2500, '아이스라떼': 3000, '핫초코': 2000, '망고빙수': 5000}\n",
      "2500\n"
     ]
    },
    {
     "ename": "KeyError",
     "evalue": "2500",
     "output_type": "error",
     "traceback": [
      "\u001b[1;31m---------------------------------------------------------------------------\u001b[0m",
      "\u001b[1;31mKeyError\u001b[0m                                  Traceback (most recent call last)",
      "\u001b[1;32m<ipython-input-42-07edd6e732d2>\u001b[0m in \u001b[0;36m<module>\u001b[1;34m\u001b[0m\n\u001b[0;32m      1\u001b[0m \u001b[0mprint\u001b[0m\u001b[1;33m(\u001b[0m\u001b[0mmenu\u001b[0m\u001b[1;33m)\u001b[0m\u001b[1;33m\u001b[0m\u001b[1;33m\u001b[0m\u001b[0m\n\u001b[0;32m      2\u001b[0m \u001b[0mprint\u001b[0m\u001b[1;33m(\u001b[0m\u001b[0mmenu\u001b[0m\u001b[1;33m[\u001b[0m\u001b[1;34m'카페라떼'\u001b[0m\u001b[1;33m]\u001b[0m\u001b[1;33m)\u001b[0m\u001b[1;33m\u001b[0m\u001b[1;33m\u001b[0m\u001b[0m\n\u001b[1;32m----> 3\u001b[1;33m \u001b[0mprint\u001b[0m\u001b[1;33m(\u001b[0m\u001b[0mmenu\u001b[0m\u001b[1;33m[\u001b[0m\u001b[1;36m2500\u001b[0m\u001b[1;33m]\u001b[0m\u001b[1;33m)\u001b[0m\u001b[1;33m\u001b[0m\u001b[1;33m\u001b[0m\u001b[0m\n\u001b[0m",
      "\u001b[1;31mKeyError\u001b[0m: 2500"
     ]
    }
   ],
   "source": [
    "print(menu)\n",
    "print(menu['카페라떼'])\n",
    "print(menu[2500])"
   ]
  },
  {
   "cell_type": "code",
   "execution_count": 43,
   "metadata": {
    "colab": {
     "autoexec": {
      "startup": false,
      "wait_interval": 0
     }
    },
    "colab_type": "code",
    "id": "FEjKtOUHG0Bg"
   },
   "outputs": [
    {
     "name": "stdout",
     "output_type": "stream",
     "text": [
      "원하는 메뉴를 입력해주세요 : 망고빙수\n",
      "5000 원입니다.\n"
     ]
    }
   ],
   "source": [
    "order = input('원하는 메뉴를 입력해주세요 : ')\n",
    "print(menu[order],'원입니다.')"
   ]
  },
  {
   "cell_type": "code",
   "execution_count": 44,
   "metadata": {
    "colab": {
     "autoexec": {
      "startup": false,
      "wait_interval": 0
     }
    },
    "colab_type": "code",
    "id": "uS_gUNPoG0Bj"
   },
   "outputs": [
    {
     "name": "stdout",
     "output_type": "stream",
     "text": [
      "추가하실 메뉴를 입력해주세요 : 초코아이스크림\n",
      "추가하실 메뉴의 가격을 입력해주세요 : 2000\n",
      "{'카페라떼': 2500, '아이스라떼': 3000, '핫초코': 2000, '망고빙수': 5000, '초코아이스크림': '2000'}\n"
     ]
    }
   ],
   "source": [
    "item = input('추가하실 메뉴를 입력해주세요 : ')\n",
    "price = input('추가하실 메뉴의 가격을 입력해주세요 : ')\n",
    "menu[item] = price\n",
    "print(menu)"
   ]
  },
  {
   "cell_type": "code",
   "execution_count": 45,
   "metadata": {
    "colab": {
     "autoexec": {
      "startup": false,
      "wait_interval": 0
     }
    },
    "colab_type": "code",
    "id": "aKTWx_YtG0Bk"
   },
   "outputs": [
    {
     "name": "stdout",
     "output_type": "stream",
     "text": [
      "{'g': 2, 'o': 3, 'd': 1, ' ': 2, 't': 2, 'r': 1, 'e': 1, 'a': 1}\n"
     ]
    }
   ],
   "source": [
    "txt = 'good to great'\n",
    "cnt = {}\n",
    "for i in txt :\n",
    "    if i not in cnt :\n",
    "        cnt[i] = 1\n",
    "    else :\n",
    "        cnt[i] += 1\n",
    "print(cnt)"
   ]
  },
  {
   "cell_type": "code",
   "execution_count": null,
   "metadata": {},
   "outputs": [],
   "source": []
  }
 ],
 "metadata": {
  "colab": {
   "default_view": {},
   "name": "파이썬 병아리반(180801).ipynb",
   "provenance": [],
   "version": "0.3.2",
   "views": {}
  },
  "kernelspec": {
   "display_name": "Python 3",
   "language": "python",
   "name": "python3"
  },
  "language_info": {
   "codemirror_mode": {
    "name": "ipython",
    "version": 3
   },
   "file_extension": ".py",
   "mimetype": "text/x-python",
   "name": "python",
   "nbconvert_exporter": "python",
   "pygments_lexer": "ipython3",
   "version": "3.7.1"
  }
 },
 "nbformat": 4,
 "nbformat_minor": 1
}
